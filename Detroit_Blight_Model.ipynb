{
 "cells": [
  {
   "cell_type": "markdown",
   "metadata": {},
   "source": [
    "# Understanding and Predicting Property Maintenance Fines\n",
    "\n",
    "<b>Task</b> Understanding the factors which influence whether or not a city resident complies with a blight ticket. Develop a model which predicts which tickets will be paid on time.\n",
    "\n",
    "<b>Model</b> Gradient Boosted Decision Tree\n",
    "\n",
    "<b>Data</b>  [Detroit Open Data Portal](https://data.detroitmi.gov/). \n",
    "\n",
    "* [Building Permits](https://data.detroitmi.gov/Property-Parcels/Building-Permits/xw2a-a7tf)\n",
    "* [Trades Permits](https://data.detroitmi.gov/Property-Parcels/Trades-Permits/635b-dsgv)\n",
    "* [Improve Detroit: Submitted Issues](https://data.detroitmi.gov/Government/Improve-Detroit-Submitted-Issues/fwz3-w3yn)\n",
    "* [DPD: Citizen Complaints](https://data.detroitmi.gov/Public-Safety/DPD-Citizen-Complaints-2016/kahe-efs3)\n",
    "* [Parcel Map](https://data.detroitmi.gov/Property-Parcels/Parcel-Map/fxkw-udwf)\n"
   ]
  },
  {
   "cell_type": "code",
   "execution_count": 1,
   "metadata": {
    "collapsed": false
   },
   "outputs": [],
   "source": [
    "import pandas as pd\n",
    "import numpy as np\n",
    "from sklearn.ensemble import GradientBoostingClassifier\n",
    "from sklearn.model_selection import train_test_split\n",
    "from sklearn.model_selection import GridSearchCV\n",
    "from sklearn.metrics import roc_auc_score\n",
    "from matplotlib.colors import ListedColormap\n",
    "from sklearn.model_selection import cross_val_score\n"
   ]
  },
  {
   "cell_type": "code",
   "execution_count": 17,
   "metadata": {
    "collapsed": false
   },
   "outputs": [],
   "source": [
    "def readTrainCSV():\n",
    "    #no of rows 159880\n",
    "    cols = ['ticket_id', 'agency_name', 'inspector_name', 'violator_name',\n",
    "       'mailing_address_str_number', 'mailing_address_str_name', 'city', 'state', 'zip_code',\n",
    "       'non_us_str_code', 'country', 'ticket_issued_date', 'hearing_date',\n",
    "       'violation_code', 'violation_description', 'disposition', 'fine_amount',\n",
    "       'admin_fee', 'state_fee', 'discount_amount', 'clean_up_cost', 'judgment_amount',\n",
    "        'grafitti_status', 'compliance']\n",
    "    \n",
    "    train_data = pd.read_csv(\"train.csv\", encoding = 'ISO-8859-1', \n",
    "                             usecols=cols, index_col=0, low_memory=False)\n",
    "    \n",
    "    train_data = train_data.dropna(subset=['compliance'])\n",
    "    \n",
    "    return train_data\n",
    "\n",
    "#readTrainCSV()"
   ]
  },
  {
   "cell_type": "code",
   "execution_count": 13,
   "metadata": {
    "collapsed": false
   },
   "outputs": [],
   "source": [
    "def readAddCSV():\n",
    "    # No NaN addresses\n",
    "    address_data = pd.read_csv(\"addresses.csv\", index_col=0)\n",
    "    \n",
    "    return address_data\n",
    "\n",
    "#readAddCSV()"
   ]
  },
  {
   "cell_type": "code",
   "execution_count": 19,
   "metadata": {
    "collapsed": false
   },
   "outputs": [],
   "source": [
    "def readLatLonCSV():\n",
    "    # no of rows 121769\n",
    "    latlon_data = pd.read_csv(\"latlons.csv\")\n",
    "    latlon_data = latlon_data.fillna(0)\n",
    "    \n",
    "    return latlon_data\n",
    "\n",
    "#readLatLonCSV()"
   ]
  },
  {
   "cell_type": "code",
   "execution_count": 21,
   "metadata": {
    "collapsed": false
   },
   "outputs": [],
   "source": [
    "def readValidationTestCSV():\n",
    "    # no of rows 61001\n",
    "    val_data = pd.read_csv(\"test.csv\", index_col=0)\n",
    "    \n",
    "    return val_data\n",
    "\n",
    "#readValidationTestCSV()"
   ]
  },
  {
   "cell_type": "code",
   "execution_count": 23,
   "metadata": {
    "collapsed": false
   },
   "outputs": [],
   "source": [
    "def getRawTrain():\n",
    "    latlon_data =  readLatLonCSV()\n",
    "    address_data = readAddCSV()\n",
    "    train_data =  readTrainCSV()\n",
    "    \n",
    "    train_df = pd.merge(train_data,\n",
    "                        pd.merge(address_data, latlon_data, how='inner', left_on='address', right_on='address'),\n",
    "                        how=\"left\",left_index=True, right_index=True)\n",
    "    \n",
    "    \n",
    "    return train_df\n",
    "\n",
    "#getRawTrain()"
   ]
  },
  {
   "cell_type": "code",
   "execution_count": 25,
   "metadata": {
    "collapsed": false
   },
   "outputs": [],
   "source": [
    "def getRawValidation():\n",
    "    latlon_data =  readLatLonCSV()\n",
    "    address_data = readAddCSV()\n",
    "    val_data =  readValidationTestCSV()\n",
    "    \n",
    "    val_df = pd.merge(val_data,\n",
    "                        pd.merge(address_data, latlon_data, how='inner', left_on='address', right_on='address'),\n",
    "                        how=\"left\",left_index=True, right_index=True)\n",
    "    \n",
    "    \n",
    "    return val_df\n",
    "\n",
    "#getRawValidation()"
   ]
  },
  {
   "cell_type": "code",
   "execution_count": 31,
   "metadata": {
    "collapsed": false
   },
   "outputs": [],
   "source": [
    "def getTrainData():\n",
    "    feature_cols = ['discount_amount','judgment_amount', 'lat', 'lon']\n",
    "    \n",
    "    train_df = getRawTrain()\n",
    "    \n",
    "    y_blight = train_df.compliance\n",
    "    X_blight = train_df[feature_cols] \n",
    "    #X_blight.mailing_address_str_number = X_blight['mailing_address_str_number'].fillna(0)\n",
    "    \n",
    "    return X_blight, y_blight, feature_cols \n",
    "\n",
    "#X_blight, y_blight, feature_cols = getTrainData()\n"
   ]
  },
  {
   "cell_type": "code",
   "execution_count": 37,
   "metadata": {
    "collapsed": false
   },
   "outputs": [],
   "source": [
    "def getValidationData():\n",
    "    feature_cols = ['discount_amount', 'judgment_amount', 'lat', 'lon']\n",
    "    \n",
    "    val_df = getRawValidation()\n",
    "\n",
    "    X_val = val_df[feature_cols] \n",
    "    X_val.lat = X_val.lat.fillna(0)\n",
    "    X_val.lon = X_val.lon.fillna(0)\n",
    "    \n",
    "    val_index = X_val.index\n",
    "    \n",
    "    return X_val, val_index\n",
    "\n",
    "X_val, val_index=getValidationData()"
   ]
  },
  {
   "cell_type": "code",
   "execution_count": 41,
   "metadata": {
    "collapsed": false
   },
   "outputs": [
    {
     "name": "stdout",
     "output_type": "stream",
     "text": [
      "Best: 0.754097 using {'learning_rate': 0.1}\n",
      "0.721307 (0.006391) with: {'learning_rate': 0.01}\n",
      "0.749728 (0.005001) with: {'learning_rate': 0.05}\n",
      "0.754097 (0.006891) with: {'learning_rate': 0.1}\n",
      "Training data accuracy: 0.76\n",
      "Test data accuracy: 0.76\n",
      "AUC score test data: 0.56\n",
      "AUC score train data: 0.56\n"
     ]
    },
    {
     "data": {
      "text/plain": [
       "ticket_id\n",
       "284932    0.063088\n",
       "285362    0.033397\n",
       "285361    0.078664\n",
       "285338    0.063088\n",
       "285346    0.075961\n",
       "285345    0.063088\n",
       "285347    0.062150\n",
       "285342    0.313847\n",
       "285530    0.031142\n",
       "284989    0.037376\n",
       "285344    0.060390\n",
       "285343    0.032464\n",
       "285340    0.032235\n",
       "285341    0.057015\n",
       "285349    0.078664\n",
       "285348    0.065366\n",
       "284991    0.035663\n",
       "285532    0.036335\n",
       "285406    0.039537\n",
       "285001    0.039537\n",
       "285006    0.031861\n",
       "285405    0.033397\n",
       "285337    0.035871\n",
       "285496    0.062150\n",
       "285497    0.065366\n",
       "285378    0.032235\n",
       "285589    0.036080\n",
       "285585    0.063088\n",
       "285501    0.076475\n",
       "285581    0.032235\n",
       "            ...   \n",
       "376367    0.055206\n",
       "376366    0.061046\n",
       "376362    0.061046\n",
       "376363    0.104807\n",
       "376365    0.055206\n",
       "376364    0.061046\n",
       "376228    0.061046\n",
       "376265    0.061046\n",
       "376286    0.474135\n",
       "376320    0.061046\n",
       "376314    0.061046\n",
       "376327    0.474135\n",
       "376385    0.474135\n",
       "376435    0.192936\n",
       "376370    0.474135\n",
       "376434    0.059118\n",
       "376459    0.289654\n",
       "376478    0.024602\n",
       "376473    0.061046\n",
       "376484    0.051256\n",
       "376482    0.053384\n",
       "376480    0.053384\n",
       "376479    0.053384\n",
       "376481    0.053384\n",
       "376483    0.061046\n",
       "376496    0.039888\n",
       "376497    0.039888\n",
       "376499    0.289654\n",
       "376500    0.289654\n",
       "369851    0.192775\n",
       "dtype: float64"
      ]
     },
     "execution_count": 41,
     "metadata": {},
     "output_type": "execute_result"
    }
   ],
   "source": [
    "def blight_model():\n",
    "    X_blight, y_blight, features = getTrainData()\n",
    "    X_val, val_index = getValidationData()\n",
    "    X_train, X_test, y_train, y_test = train_test_split(X_blight, y_blight, random_state=100)\n",
    "    \n",
    "    learning_rate = [0.01, 0.05, 0.1]\n",
    "    param_grid = dict(learning_rate=learning_rate)                                         \n",
    "    clf = GradientBoostingClassifier(random_state=100)\n",
    "    #print (\"Feature Importances\")\n",
    "    #print (list(zip(features, clf.feature_importances_)))\n",
    "    grid_search = GridSearchCV(clf, param_grid=param_grid, scoring='roc_auc')\n",
    "    grid_result = grid_search.fit(X_train, y_train)    \n",
    "                                                        \n",
    "    # summarize results\n",
    "    print(\"Best: %f using %s\" % (grid_result.best_score_, grid_result.best_params_))\n",
    "    means = grid_result.cv_results_['mean_test_score']\n",
    "    stds = grid_result.cv_results_['std_test_score']\n",
    "    params = grid_result.cv_results_['params']\n",
    "    for mean, stdev, param in zip(means, stds, params):\n",
    "        print(\"%f (%f) with: %r\" % (mean, stdev, param))\n",
    "    #clf = GradientBoostingClassifier(n_estimators=400, learning_rate=0.1, random_state=0).fit(X_train, y_train)\n",
    "    \n",
    "    y_test_predict = grid_result.predict(X_test)\n",
    "    y_train_predict = grid_result.predict(X_train)\n",
    "    \n",
    "    print (\"Training data accuracy: {:.2f}\".format(grid_result.score(X_train, y_train)))\n",
    "    print (\"Test data accuracy: {:.2f}\".format(grid_result.score(X_test, y_test)))\n",
    "    \n",
    "\n",
    "    \n",
    "    print (\"AUC score test data: {:.2f}\".format(roc_auc_score(y_test, y_test_predict)))\n",
    "    print (\"AUC score train data: {:.2f}\".format(roc_auc_score(y_train, y_train_predict)))\n",
    "    \n",
    "    probas = grid_result.predict_proba(X_val)[:,1]\n",
    "    \n",
    "    output_probas = pd.Series(data=probas, index=val_index)\n",
    "    \n",
    "    return output_probas\n",
    "   \n",
    "blight_model()"
   ]
  }
 ],
 "metadata": {
  "anaconda-cloud": {},
  "coursera": {
   "course_slug": "python-machine-learning",
   "graded_item_id": "nNS8l",
   "launcher_item_id": "yWWk7",
   "part_id": "w8BSS"
  },
  "kernelspec": {
   "display_name": "Python [default]",
   "language": "python",
   "name": "python2"
  },
  "language_info": {
   "codemirror_mode": {
    "name": "ipython",
    "version": 2
   },
   "file_extension": ".py",
   "mimetype": "text/x-python",
   "name": "python",
   "nbconvert_exporter": "python",
   "pygments_lexer": "ipython2",
   "version": "2.7.12"
  }
 },
 "nbformat": 4,
 "nbformat_minor": 2
}
